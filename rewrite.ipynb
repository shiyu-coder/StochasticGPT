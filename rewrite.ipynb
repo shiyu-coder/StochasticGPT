{
 "cells": [
  {
   "cell_type": "code",
   "execution_count": 2,
   "metadata": {},
   "outputs": [],
   "source": [
    "import re\n",
    "import openai\n",
    "import os\n",
    "from dotenv import load_dotenv\n",
    "load_dotenv(dotenv_path = \".env\")\n",
    "openai.api_base = os.environ[\"OPENAI_API_BASE\"]\n",
    "openai.api_key = os.environ[\"OPENAI_API_KEY\"]"
   ]
  },
  {
   "cell_type": "markdown",
   "metadata": {},
   "source": [
    "### Rewrite for language"
   ]
  },
  {
   "cell_type": "code",
   "execution_count": null,
   "metadata": {},
   "outputs": [],
   "source": [
    "prompt = \"\"\"Your task is to revise a section of an academic paper (in LaTeX format) based on the review advise. Follow these steps:\n",
    "\n",
    "I will provide you with a section (titled \"{section_label}\") of the paper. You need to check the section for:\n",
    "\n",
    "Language: Look for grammatical errors, colloquial expressions, or any subpar phrases and suggest improvements.\n",
    "Logical Flow: Ascertain whether the content follows a reasonable sequence, whether transitions between ideas are smooth, and pinpoint any incoherence in the logic.\n",
    "Both the whole paper and individual sections' logical flow are depicted using JSON-encoded directed acyclic graph (DAG) structures.\n",
    "\n",
    "The logical structure of the entire paper is: {paper_structure}\n",
    "\n",
    "The logical structure of the specific section is: {section_structure}\n",
    "\n",
    "The content of the section is: {section_content}\n",
    "\n",
    "Formatting Requirements:\n",
    "\n",
    "Present your output in Markdown format. Convert LaTeX section content to Markdown, omitting images, tables, and other non-textual elements. Divide your output into \"Section Content with Annotations\" and \"Logical Flow Commentary.\"\n",
    "\"Section Content with Annotations\": Wrap any sentences with language issues in \"@\" symbols and immediately follow them with a parenthesis stating what the issue is.\n",
    "\"Logical Flow Commentary\": After presenting the annotated section, add a separate part summarizing the logical flow of the paragraph. State whether it's logical or if any issues are present, and describe them briefly.\n",
    "Please focus solely on the language-related logical flow issues for this task, without considering the factual accuracy of the content.\n",
    "\n",
    "Here's an example for reference:\n",
    "\n",
    "{content_analysis_example}\n",
    "\n",
    "Ensure your response is clear and it enables gpt to understand and fulfill the task effectively.\"\"\"\n"
   ]
  },
  {
   "cell_type": "code",
   "execution_count": 45,
   "metadata": {},
   "outputs": [],
   "source": [
    "example = {'section_content': \"\"\" The Urban Life and Air Pollution task at MediaEval 2022 required participants to predict the air quality index (AQI) value at +1, +5 and +7 days using an archive of air quality, weather and images from 16 CCTV cameras, one image taken every 60 seconds \\cite{UA22}. Participating groups were required to download the data from online sources for local processing.\n",
    "Gaps in air quality datasets are common with the problem exacerbated for data gathered in poorer or developing countries \\cite{PINDER2019116794, Falge2001, Hui2004, Moffat2007, Kim2020}. <span style=\"color:red;\">In this paper we describe how we addressed the very large gaps in data that we encountered in the data we downloaded.</span>(<span style=\"color:orange;\">This sentence is repetitive with the use of \"data\" three times. It could be rephrased for clarity and conciseness.</span>)\"\"\", \n",
    "           'section_label': 'Introduction',\n",
    "           'revise_result': \"\"\"The Urban Life and Air Pollution task at MediaEval 2022 required participants to predict the air quality index (AQI) value at +1, +5, and +7 days using an archive of air quality, weather, and images from 16 CCTV cameras, one image taken every 60 seconds \\cite{UA22}. Participating groups were required to download the data from online sources for local processing.\n",
    "Gaps in air quality datasets are common, with the problem exacerbated for data gathered in poorer or developing countries \\cite{PINDER2019116794, Falge2001, Hui2004, Moffat2007, Kim2020}. In this paper, we detail our approach to addressing the substantial gaps encountered within the downloaded datasets.\"\"\"}"
   ]
  },
  {
   "cell_type": "code",
   "execution_count": null,
   "metadata": {},
   "outputs": [],
   "source": [
    "在这段文本中，已经标注好了具体的language issues，其中红色的部分是需要修改的内容（用<span style=\"color:red;\">和</span>warp起来），橙色的部分是对修改内容的解释（用<span style=\"color:orange;\">和</span>warp起来）。\n",
    "你需要根据这些标注，修改这段文本，使得它更加符合语法规范，也要保证修改后的文本与原文的意思一致。同时对于不需要修改的部分，要保证不改变原本的内容，要一字不差的保留下来。"
   ]
  },
  {
   "cell_type": "code",
   "execution_count": 46,
   "metadata": {},
   "outputs": [],
   "source": [
    "language_issue_prompt = \"\"\"\"Your task is to revise a section of an academic paper (in LaTeX format) based on the review advise. Follow these requirements: \n",
    "\n",
    "I will provide you with a section (titled \"{section_label}\") of the paper. In this text, specific language issues have already been marked. The parts needing revision are wrapped with \"@\" symbols and immediately follow a parenthesis stating what the issue is.\n",
    "Based on these annotations, the task is to modify the text to make it more grammatically correct, ensuring that the meaning of the revised text remains consistent with the original. \n",
    "It is also crucial to retain the unmodified parts of the text exactly as they are, without any alterations.\n",
    "\n",
    "The content of the section is: {section_content}\n",
    "\n",
    "Here's an example for reference:\n",
    "\n",
    "provided section: {example_content}\n",
    "\n",
    "revised result: {revise_result}\n",
    "\n",
    "Ensure your response fully complies with compliance requirements and fulfill the task effectively.\"\"\""
   ]
  },
  {
   "cell_type": "code",
   "execution_count": 34,
   "metadata": {},
   "outputs": [],
   "source": [
    "language_issue_prompt_zero_shot = \"\"\"\"Your task is to revise a section of an academic paper (in LaTeX format) based on the review advise. Follow these requirements: \n",
    "\n",
    "I will provide you with a section (titled \"{section_label}\") of the paper in Latex format. In this text, specific language issues have already been marked. The parts needing revision are indicated in red, wrapped with <span style=\"color:red;\"> and </span>. The explanations for these revisions are in orange, wrapped with <span style=\"color:orange;\"> and </span>. \n",
    "Based on these annotations, the task is to modify the text to make it more grammatically correct, ensuring that the meaning of the revised text remains consistent with the original. \n",
    "It is also crucial to retain the unmodified parts of the text exactly as they are, without any alterations.\n",
    "\n",
    "The content of the section is: {section_content}\n",
    "\n",
    "Formatting Requirements:\n",
    "\n",
    "Present your output in Latex format. You should only output the revised text directly without anything additional.\n",
    "\n",
    "Ensure your response fully complies with compliance requirements and fulfill the task effectively.\"\"\""
   ]
  },
  {
   "cell_type": "code",
   "execution_count": 49,
   "metadata": {},
   "outputs": [],
   "source": [
    "test = \"\"\"\\\\section\\{method\\}\\n Planning a trip to the moon differs in no essential respect from planning a trip to the beach. \\\n",
    "@You hve to decide what to take along, what to leave behind.@(There is a typographical error: \"hve\" should be \"have.\". It is generally more common to see \"take with you\" instead of \"take along.\") \\\n",
    "Should the thermos jug go? The child's rubber horse? The dill pickles? \\\n",
    "@These are the sometimes fateful decisions on which the success or failure of the whole outing turns.@\\\n",
    "(The first issue with this sentence is the subject-verb disagreement. \"These\" is plural, but \"is\" is singular. \\\n",
    "The correct verb form should be \"are\" to match the plural subject.The last part of the sentence, \"on which the success or failure of the whole outing turns,\" \\\n",
    "is a bit awkward. A smoother way to write this might be: \"These decisions can sometimes be crucial, determining the success or failure of the entire outing.\")\n",
    "Among the items they sent along, of course, was the little jointed flagpoles and the flag that could be stiffened to the breeze that did not blow. \\\n",
    "(It is traditional among explorers to plant the flag.) Yet the two men who stepped out on the surface of the moon were in a class by themselves and should \\\n",
    "have been equipped accordingly: they were of the new breed of men, those who had seen the earth whole.\"\"\""
   ]
  },
  {
   "cell_type": "code",
   "execution_count": 50,
   "metadata": {},
   "outputs": [],
   "source": [
    "prompt = language_issue_prompt.format(section_content = test, section_label = example[\"section_label\"], example_content = example[\"section_content\"], revise_result = example[\"revise_result\"])"
   ]
  },
  {
   "cell_type": "code",
   "execution_count": 25,
   "metadata": {},
   "outputs": [],
   "source": [
    "from llm_api import llm_request"
   ]
  },
  {
   "cell_type": "code",
   "execution_count": 51,
   "metadata": {},
   "outputs": [],
   "source": [
    "response = llm_request(prompt)"
   ]
  },
  {
   "cell_type": "code",
   "execution_count": 52,
   "metadata": {},
   "outputs": [
    {
     "name": "stdout",
     "output_type": "stream",
     "text": [
      "\\section{method}\n",
      "Planning a trip to the moon differs in no essential respect from planning a trip to the beach. You have to decide what to take with you, what to leave behind. Should the thermos jug go? The child's rubber horse? The dill pickles? These decisions can sometimes be crucial, determining the success or failure of the entire outing. Among the items they sent along, of course, were the little jointed flagpoles and the flag that could be stiffened to the breeze that did not blow. (It is traditional among explorers to plant the flag.) Yet the two men who stepped out on the surface of the moon were in a class by themselves and should have been equipped accordingly: they were of the new breed of men, those who had seen the earth whole.\n"
     ]
    }
   ],
   "source": [
    "print(response)"
   ]
  },
  {
   "cell_type": "code",
   "execution_count": 44,
   "metadata": {},
   "outputs": [
    {
     "name": "stdout",
     "output_type": "stream",
     "text": [
      "Planning a trip to the moon differs in no essential respect from planning a trip to the beach. @You hve to decide what to take along, what to leave behind.@(There is a typographical error: \"hve\" should be \"have.\". It is generally more common to see \"take with you\" instead of \"take along.\") Should the thermos jug go? The child's rubber horse? The dill pickles? @These are the sometimes fateful decisions on which the success or failure of the whole outing turns.@(The first issue with this sentence is the subject-verb disagreement. \"These\" is plural, but \"is\" is singular. The correct verb form should be \"are\" to match the plural subject.The last part of the sentence, \"on which the success or failure of the whole outing turns,\" is a bit awkward. A smoother way to write this might be: \"These decisions can sometimes be crucial, determining the success or failure of the entire outing.\")\n",
      "Among the items they sent along, of course, was the little jointed flagpoles and the flag that could be stiffened to the breeze that did not blow. (It is traditional among explorers to plant the flag.) Yet the two men who stepped out on the surface of the moon were in a class by themselves and should have been equipped accordingly: they were of the new breed of men, those who had seen the earth whole.\n"
     ]
    }
   ],
   "source": [
    "print(test)"
   ]
  },
  {
   "cell_type": "markdown",
   "metadata": {},
   "source": [
    "### Rewrite for logic"
   ]
  },
  {
   "cell_type": "code",
   "execution_count": 45,
   "metadata": {},
   "outputs": [],
   "source": [
    "section_structure = {'nodes': [\n",
    "                      {'name': 'Challenge Overview',\n",
    "                       'content': 'The Urban Life and Air Pollution task at MediaEval 2022 is introduced, which required participants to predict the air quality index (AQI) value at future intervals using a variety of data sources.',\n",
    "                       'parents': []}, {'name': 'Data Gaps Issue',\n",
    "                                        'content': 'The paper acknowledges the common issue of gaps in air quality datasets, which is particularly problematic in poorer or developing countries.',\n",
    "                                        'parents': ['Challenge Overview']}, {'name': 'Research Contribution',\n",
    "                                                                             'content': 'The paper outlines its contribution by describing the approach taken to address the large gaps in the air quality data encountered.',\n",
    "                                                                             'parents': ['Data Gaps Issue']}], 'edges': [\n",
    "                      {'from': 'Challenge Overview', 'to': 'Data Gaps Issue'}, {'from': 'Data Gaps Issue', 'to': 'Research Contribution'}]}\n",
    "example_content = \"\"\"\\\\label={sec:intro}\n",
    "\n",
    "\\\\begin{comment}\n",
    "According to the World Health Organisation (WHO), 91\\% of the world's population reside in conditions where WHO's air quality guidelines levels were not met \\cite{organizacion2021global}. This report on 2016 also showed that ambient (outdoor) air pollution in both cities and rural areas was estimated to cause 4.2 million premature deaths worldwide. The research concluded that policies and investments supporting cleaner transport, energy-efficient homes, power generation, industry and better municipal waste management would would be crucial to the reduction of outdoor air pollution. In a separate report, it is estimated that air pollution globally accounts for roughly seven million premature deaths a year \\cite{Gar21}, where it was again stated that the majority of those deaths are caused by outdoor air pollution with the rest generally attributed to poor air quality from indoor cooking. While the majority of these deaths occur in developing countries, with China and India accounting for roughly 50\\%, developed countries also have a problem with deaths resulting from air pollution.\n",
    "In this research, the focus will mostly be on the modelling of concentrations in particulate matter - tiny particles in the air generated both by natural processes and human activity. These particles are generally \n",
    "12  categorised (in the public health domain) by their diameter; fine particles with diameter less than 2.5 $\\mu$m are referred to as \"PM2.5\" and coarse particles with diameter between 2.5 and 10 $\\mu$m are referred to as \"PM10\".\\\\\n",
    "\\\\end{comment}\n",
    "\n",
    "The Urban Life and Air Pollution task at MediaEval 2022 required participants to predict the air quality index (AQI) value at +1, +5 and +7 days using an archive of air quality, weather and images from 16 CCTV cameras, one image taken every 60 seconds  \\cite{UA22}. Participating groups were required to download the data from online sources for local processing.\n",
    "Gaps in air quality datasets are common with the problem exacerbated for data gathered in poorer or developing countries \\cite{PINDER2019116794, Falge2001, Hui2004, Moffat2007, Kim2020}. In this paper we describe how we addressed the very large gaps in data that we encountered in the data we downloaded.\"\"\"\n",
    "\n",
    "example_feedback = \"\"\"The logical flow of the Introduction section is clear and follows a reasonable sequence. It begins with an overview of the challenge that sets the context for the research. It then transitions to discussing a specific issue related to the challenge, namely the gaps in air quality datasets, which is particularly problematic in poorer or developing countries. Finally, it outlines the paper's contribution by stating that the approach taken to address the large gaps in the air quality data will be described. The transitions between ideas are smooth, and the content is coherent. However, the last sentence could be improved to avoid repetition and enhance clarity.\"\"\"\n",
    "\n",
    "example_result = \"\"\"\\\\label={sec:intro}\n",
    "\\\\begin{comment}\n",
    "According to the World Health Organisation (WHO), 91\\% of the world's population reside in conditions where WHO's air quality guidelines levels were not met \\cite{organizacion2021global}. This report from 2016 also indicated that ambient (outdoor) air pollution in both cities and rural areas was estimated to cause 4.2 million premature deaths worldwide. The research emphasized that implementing policies and investments to support cleaner transport, energy-efficient homes, power generation, industry, and better municipal waste management could significantly reduce outdoor air pollution. Another report estimates that air pollution globally accounts for approximately seven million premature deaths annually \\cite{Gar21}, with the majority of these deaths being attributed to outdoor air pollution and the remainder largely due to poor indoor air quality from cooking practices. While most of these deaths occur in developing countries, with China and India contributing to about 50\\%, developed nations are not exempt from the detrimental effects of air pollution.\n",
    "In this research, we primarily examine the modelling of particulate matter concentrations—tiny particles in the air produced by both natural processes and human activities. These particles are typically classified by their diameter; fine particles with a diameter of less than 2.5 $\\mu$m are denoted as \"PM2.5,\" and coarse particles with a diameter between 2.5 and 10 $\\mu$m are labeled as \"PM10\".\n",
    "\\\\end{comment}\n",
    "\n",
    "The Urban Life and Air Pollution task at MediaEval 2022 challenged participants to forecast the air quality index (AQI) for future intervals using a diverse set of data, including air quality metrics, weather conditions, and visual data from 16 CCTV cameras capturing images every minute \\cite{UA22}. Participants were tasked with retrieving this data from various online repositories for subsequent local analysis.\n",
    "Data gaps are a prevalent issue in air quality datasets, with this challenge being more pronounced in data collected from less affluent or developing regions \\cite{PINDER2019116794, Falge2001, Hui2004, Moffat2007, Kim2020}. In this paper, we delineate our methodology for addressing the substantial data voids we encountered within the datasets we utilized.\n",
    "\"\"\"\n",
    "\n",
    "example = {\"example_review\" : example_feedback, \"section_content\": example_content, \"section_label\": \"Introduction\",\n",
    "           \"example_structure\": section_structure, \"example_result\": example_result}\n"
   ]
  },
  {
   "cell_type": "code",
   "execution_count": 27,
   "metadata": {},
   "outputs": [],
   "source": [
    "prompt = \"\"\"Your task is to revise a section of an academic paper (in LaTeX format) based on the review advise. Follow these requirements:\n",
    "\n",
    "I will provide you with a section (titled \"{section_label}\") of the paper in Latex format. \n",
    "Additionally, I will supply a review of this document segment. The review will critique the logical flow of the text. \n",
    "Based on this review, your task is to modify the text to enhance its logical coherence while preserving its core message. \n",
    "The modification should adhere to two criteria: (1) fidelity, ensuring the revised text remains true to the original intent and content, and (2) improved logical flow, making the content more academically sound, clear, and engaging.\n",
    "\n",
    "The content of the section is: {section_content}\n",
    "\n",
    "The logical structure of the specific section is: {section_structure}\n",
    "\n",
    "The review advise is: {review_advise}\n",
    "        \n",
    "Here's an example for reference:\n",
    "\n",
    "provided section: {example_content}\n",
    "\n",
    "logical structure: {example_structure}\n",
    "\n",
    "review advise: {example_review}\n",
    "\n",
    "revised result: {revise_result}\n",
    "\n",
    "Formatting Requirements:\n",
    "\n",
    "Present your output in Latex format aligned with provided section. You should only output the revised text directly without anything additional.\n",
    "\n",
    "Ensure your response fully complies with compliance requirements and fulfill the task effectively.\"\"\""
   ]
  },
  {
   "cell_type": "code",
   "execution_count": 40,
   "metadata": {},
   "outputs": [],
   "source": [
    "prompt_zero = \"\"\"Your task is to revise a section of an academic paper (in LaTeX format) based on the review advise. Follow these requirements:\n",
    "\n",
    "I will provide you with a section (titled \"{section_label}\") of the paper in Latex format. \n",
    "Additionally, I will supply a review of this document segment. The review will critique the logical flow of the text. \n",
    "Based on this review, your task is to modify the text to enhance its logical coherence while preserving its core message. \n",
    "The modification should adhere to three criteria: \n",
    "(1) fidelity, ensuring the revised text remains true to the original intent and content, and \n",
    "(2) improved logical flow, making the content more academically sound, clear, and engaging, and\n",
    "(3) integrity, ensuring that no information loss occurs, and maintaining the integrity of the original information as much as possible\n",
    "\n",
    "The content of the section is: {section_content}\n",
    "\n",
    "The logical structure of the specific section is: {section_structure}\n",
    "\n",
    "The review advise is: {review_advise}\n",
    "        \n",
    "Formatting Requirements:\n",
    "\n",
    "Present your output in Latex format aligned with provided section. You should only output the revised text directly without anything additional.\n",
    "\n",
    "Ensure your response fully complies with compliance requirements and fulfill the task effectively.\"\"\""
   ]
  },
  {
   "cell_type": "code",
   "execution_count": 41,
   "metadata": {},
   "outputs": [],
   "source": [
    "prompt = prompt_zero.format(section_label=example['section_label'], section_content=example['section_content'], section_structure=example['example_structure'], review_advise=example['example_review'])"
   ]
  },
  {
   "cell_type": "code",
   "execution_count": 42,
   "metadata": {},
   "outputs": [
    {
     "name": "stdout",
     "output_type": "stream",
     "text": [
      "Your task is to revise a section of an academic paper (in LaTeX format) based on the review advise. Follow these requirements:\n",
      "\n",
      "I will provide you with a section (titled \"Introduction\") of the paper in Latex format. \n",
      "Additionally, I will supply a review of this document segment. The review will critique the logical flow of the text. \n",
      "Based on this review, your task is to modify the text to enhance its logical coherence while preserving its core message. \n",
      "The modification should adhere to two criteria: \n",
      "(1) fidelity, ensuring the revised text remains true to the original intent and content, and \n",
      "(2) improved logical flow, making the content more academically sound, clear, and engaging, and\n",
      "(3) integrity, ensuring that no information loss occurs, and maintaining the integrity of the original information as much as possible\n",
      "\n",
      "The content of the section is: \\label={sec:intro}\n",
      "\n",
      "\\begin{comment}\n",
      "According to the World Health Organisation (WHO), 91\\% of the world's population reside in conditions where WHO's air quality guidelines levels were not met \\cite{organizacion2021global}. This report on 2016 also showed that ambient (outdoor) air pollution in both cities and rural areas was estimated to cause 4.2 million premature deaths worldwide. The research concluded that policies and investments supporting cleaner transport, energy-efficient homes, power generation, industry and better municipal waste management would would be crucial to the reduction of outdoor air pollution. In a separate report, it is estimated that air pollution globally accounts for roughly seven million premature deaths a year \\cite{Gar21}, where it was again stated that the majority of those deaths are caused by outdoor air pollution with the rest generally attributed to poor air quality from indoor cooking. While the majority of these deaths occur in developing countries, with China and India accounting for roughly 50\\%, developed countries also have a problem with deaths resulting from air pollution.\n",
      "In this research, the focus will mostly be on the modelling of concentrations in particulate matter - tiny particles in the air generated both by natural processes and human activity. These particles are generally \n",
      "12  categorised (in the public health domain) by their diameter; fine particles with diameter less than 2.5 $\\mu$m are referred to as \"PM2.5\" and coarse particles with diameter between 2.5 and 10 $\\mu$m are referred to as \"PM10\".\\\n",
      "\\end{comment}\n",
      "\n",
      "The Urban Life and Air Pollution task at MediaEval 2022 required participants to predict the air quality index (AQI) value at +1, +5 and +7 days using an archive of air quality, weather and images from 16 CCTV cameras, one image taken every 60 seconds  \\cite{UA22}. Participating groups were required to download the data from online sources for local processing.\n",
      "Gaps in air quality datasets are common with the problem exacerbated for data gathered in poorer or developing countries \\cite{PINDER2019116794, Falge2001, Hui2004, Moffat2007, Kim2020}. In this paper we describe how we addressed the very large gaps in data that we encountered in the data we downloaded.\n",
      "\n",
      "The logical structure of the specific section is: {'nodes': [{'name': 'Challenge Overview', 'content': 'The Urban Life and Air Pollution task at MediaEval 2022 is introduced, which required participants to predict the air quality index (AQI) value at future intervals using a variety of data sources.', 'parents': []}, {'name': 'Data Gaps Issue', 'content': 'The paper acknowledges the common issue of gaps in air quality datasets, which is particularly problematic in poorer or developing countries.', 'parents': ['Challenge Overview']}, {'name': 'Research Contribution', 'content': 'The paper outlines its contribution by describing the approach taken to address the large gaps in the air quality data encountered.', 'parents': ['Data Gaps Issue']}], 'edges': [{'from': 'Challenge Overview', 'to': 'Data Gaps Issue'}, {'from': 'Data Gaps Issue', 'to': 'Research Contribution'}]}\n",
      "\n",
      "The review advise is: The logical flow of the Introduction section is clear and follows a reasonable sequence. It begins with an overview of the challenge that sets the context for the research. It then transitions to discussing a specific issue related to the challenge, namely the gaps in air quality datasets, which is particularly problematic in poorer or developing countries. Finally, it outlines the paper's contribution by stating that the approach taken to address the large gaps in the air quality data will be described. The transitions between ideas are smooth, and the content is coherent. However, the last sentence could be improved to avoid repetition and enhance clarity.\n",
      "        \n",
      "Formatting Requirements:\n",
      "\n",
      "Present your output in Latex format aligned with provided section. You should only output the revised text directly without anything additional.\n",
      "\n",
      "Ensure your response fully complies with compliance requirements and fulfill the task effectively.\n"
     ]
    }
   ],
   "source": [
    "print(prompt)"
   ]
  },
  {
   "cell_type": "code",
   "execution_count": 43,
   "metadata": {},
   "outputs": [],
   "source": [
    "from llm_api import llm_request\n",
    "response = llm_request(prompt)"
   ]
  },
  {
   "cell_type": "code",
   "execution_count": 44,
   "metadata": {},
   "outputs": [
    {
     "name": "stdout",
     "output_type": "stream",
     "text": [
      "\\begin{comment}\n",
      "According to the World Health Organisation (WHO), 91\\% of the world's population reside in conditions where WHO's air quality guidelines levels were not met \\cite{organizacion2021global}. This report from 2016 also indicated that ambient (outdoor) air pollution in both cities and rural areas was estimated to cause 4.2 million premature deaths worldwide. The research emphasized that implementing policies and investments to support cleaner transport, energy-efficient homes, power generation, industry, and better municipal waste management could significantly reduce outdoor air pollution. Another report estimates that air pollution globally accounts for approximately seven million premature deaths annually \\cite{Gar21}, with the majority of these deaths being attributed to outdoor air pollution and the remainder largely due to poor indoor air quality from cooking practices. While most of these deaths occur in developing countries, with China and India contributing to about 50\\%, developed nations are not exempt from the detrimental effects of air pollution.\n",
      "In this research, we primarily examine the modelling of particulate matter concentrations—tiny particles in the air produced by both natural processes and human activities. These particles are typically classified by their diameter; fine particles with a diameter of less than 2.5 $\\mu$m are denoted as \"PM2.5,\" and coarse particles with a diameter between 2.5 and 10 $\\mu$m are labeled as \"PM10\".\n",
      "\\end{comment}\n",
      "\n",
      "The Urban Life and Air Pollution task at MediaEval 2022 challenged participants to forecast the air quality index (AQI) for future intervals using a diverse set of data, including air quality metrics, weather conditions, and visual data from 16 CCTV cameras capturing images every minute \\cite{UA22}. Participants were tasked with retrieving this data from various online repositories for subsequent local analysis.\n",
      "Data gaps are a prevalent issue in air quality datasets, with this challenge being more pronounced in data collected from less affluent or developing regions \\cite{PINDER2019116794, Falge2001, Hui2004, Moffat2007, Kim2020}. In this paper, we delineate our methodology for addressing the substantial data voids we encountered within the datasets we utilized.\n"
     ]
    }
   ],
   "source": [
    "print(response)"
   ]
  },
  {
   "cell_type": "code",
   "execution_count": 20,
   "metadata": {},
   "outputs": [],
   "source": [
    "import openai\n",
    "import os\n",
    "openai.api_key = os.environ[\"OPENAI_API_KEY\"]\n",
    "completion = openai.ChatCompletion.create(\n",
    "        model=\"gpt-4-1106-preview\",\n",
    "        messages=[{'role': 'system', 'content': 'you are a helpful assistant'},\n",
    "                {'role': 'user', 'content': prompt},\n",
    "                {'role': 'assistant', 'content': response}, \n",
    "                {'role': 'user', 'content': \"You loss some information! like 91%, WHO etc. You need to check whether the content you generated meets the requirements in the prompt, such as whether there is any loss of information, such as numbers, etc.\"}],\n",
    "        temperature=0,\n",
    "        response_format={\"type\": 'text'},\n",
    "    )"
   ]
  },
  {
   "cell_type": "code",
   "execution_count": 21,
   "metadata": {},
   "outputs": [
    {
     "data": {
      "text/plain": [
       "'\\\\section{Introduction}\\nThe Urban Life and Air Pollution task at MediaEval 2022 required participants to predict the air quality index (AQI) value at +1, +5, and +7 days using an archive of air quality, weather data, and images from 16 CCTV cameras, with one image captured every 60 seconds \\\\cite{UA22}. This task necessitated that participating groups download the data from online sources for local processing. Gaps in air quality datasets are a widespread issue, with the challenge being more pronounced in poorer or developing countries \\\\cite{PINDER2019116794, Falge2001, Hui2004, Moffat2007, Kim2020}. In this paper, we delineate our approach to managing the extensive gaps in the air quality data that we encountered, ensuring the integrity of our analysis and findings.'"
      ]
     },
     "execution_count": 21,
     "metadata": {},
     "output_type": "execute_result"
    }
   ],
   "source": [
    "completion.choices[0][\"message\"][\"content\"]"
   ]
  },
  {
   "cell_type": "markdown",
   "metadata": {},
   "source": [
    "### Reflexion\n"
   ]
  },
  {
   "cell_type": "markdown",
   "metadata": {},
   "source": [
    "You are an advanced academic polishing agent that can make the content more academically sound, clear, and engaging. \n",
    "You will be given a previous polishing trial in which you 根据一段review advise修改了a section (titled \"{section_label}\") of the paper in Latex format. \n",
    "这段文本的内容是\n",
    "文本的结构是\n",
    "修改意见是\n",
    "修改要求是\n",
    "对应的修改结果是.\n",
    "\n",
    "你需要根据修改意见和修改要求反思你的修改结果，包括\n",
    "(1) 修改结果是否满足修改要求\n",
    "(2) 修改结果是否解决了修改意见中的问题。\n",
    "\n",
    "Formatting Requirements:\n",
    "你需要直接生成你的反思结果。如果你觉得已经满足了修改意见和修改要求，那么请返回None\n",
    "\n",
    "Here are some examples:\n",
    "{examples}\n",
    "\n",
    "Reflection:"
   ]
  },
  {
   "cell_type": "code",
   "execution_count": null,
   "metadata": {},
   "outputs": [],
   "source": [
    "reflect_prompt = \"\"\"You are tasked with refining a section of an academic paper. A section (titled \"{section_label}\") of an academic paper in Latex format, has been previously revised based on a review advise.\n",
    "\n",
    "The original section, logical structure, review advice, revise requirements for modification were provided. You made changes accordingly, resulting in a modified version of the text. \n",
    "\n",
    "Your task now is to reflect on the changes you've made. Consider the following points:\n",
    "\n",
    "(1) Does the modified version meet the revise requirements specified for the changes?\n",
    "(2) Does ithe modified versiont address the issues pointed out in the review advice?\n",
    "\n",
    "Formatting Requirements:\n",
    "Directly generate your reflection results. If you believe that your modifications have fully met the review advice and the specified revise requirements, please respond with \"None\".\n",
    "\n",
    "Here are some examples for reference:\n",
    "{examples}\n",
    "\n",
    "The original section, logical structure, review advice, revise requirements and your modified version are as follows:\n",
    "\n",
    "original section: {original_text}\n",
    "\n",
    "logical structure of original text: {logical_structure}\n",
    "\n",
    "review advice: {review_advise}\n",
    "\n",
    "revise requirements: {revise_requirements}\n",
    "\n",
    "modified version: {modified_text}\n",
    "\n",
    "Please analyze your previous modification and provide your reflection.\n",
    "\"\"\""
   ]
  },
  {
   "cell_type": "code",
   "execution_count": null,
   "metadata": {},
   "outputs": [],
   "source": [
    "reflect_prompt = \"\"\"Objective: You are required to refine a section of an academic paper. This section, titled \"{section_label},\" has undergone previous revisions based on review advice. \n",
    "However, your current modifications have not fully met the review advice and revision requirements. \n",
    "The reasons for this shortfall will be provided to you. Your goal is to further modify the text to better align with the review advice and revision requirements. \n",
    "It's crucial to preserve the parts that don't need to be changed exactly as they are.\n",
    "\n",
    "Formatting Requirements:\n",
    "Present your output in Latex format aligned with provided section. You should directly output the revised text without anything additional.\n",
    "\n",
    "Here are some examples for reference:\n",
    "{examples}\n",
    "(End of examples)\n",
    "\n",
    "Components:\n",
    "\n",
    "Original Section: {original_text}\n",
    "\n",
    "Logical Structure of Original Text: {logical_structure}\n",
    "\n",
    "Review Advice: {review_advise}\n",
    "\n",
    "Revision Requirements: {revise_requirements}\n",
    "\n",
    "Your Modified Version: {modified_text}\n",
    "\n",
    "Unsatisfied Points of Modified Version: {unsatisfied_points}\n",
    "\n",
    "Your Task: Analyze your previous modification and further revise your text. Address the unsatisfied points to better meet the review advice and revision requirements.\n",
    "\"\"\""
   ]
  },
  {
   "cell_type": "code",
   "execution_count": null,
   "metadata": {},
   "outputs": [],
   "source": [
    "import numpy as np\n",
    "img_path = './exp_result/our_method/DCU-AQ.tex_lan.pkl'\n",
    "img_data = np.load(img_path, allow_pickle=True)\n",
    "print(img_data)"
   ]
  },
  {
   "cell_type": "code",
   "execution_count": 7,
   "metadata": {},
   "outputs": [
    {
     "name": "stdout",
     "output_type": "stream",
     "text": [
      "9\n"
     ]
    }
   ],
   "source": [
    "print(len(img_data))"
   ]
  },
  {
   "cell_type": "code",
   "execution_count": 8,
   "metadata": {},
   "outputs": [],
   "source": [
    "import joblib\n",
    "ls_cache = joblib.load(img_path)"
   ]
  },
  {
   "cell_type": "code",
   "execution_count": 10,
   "metadata": {},
   "outputs": [
    {
     "data": {
      "text/plain": [
       "list"
      ]
     },
     "execution_count": 10,
     "metadata": {},
     "output_type": "execute_result"
    }
   ],
   "source": [
    "type(ls_cache)"
   ]
  },
  {
   "cell_type": "code",
   "execution_count": 60,
   "metadata": {},
   "outputs": [],
   "source": [
    "from paper_class import *\n",
    "paper = load_from_cache('./exp_result/our_method/moderately_poor.tex.pkl')"
   ]
  },
  {
   "cell_type": "code",
   "execution_count": 61,
   "metadata": {},
   "outputs": [
    {
     "name": "stdout",
     "output_type": "stream",
     "text": [
      "1\n",
      "1\n",
      "1\n",
      "1\n",
      "1\n",
      "1\n",
      "1\n",
      "1\n",
      "1\n"
     ]
    }
   ],
   "source": [
    "from polishGPT import polish\n",
    "\n",
    "polish_level = \"Test_structure\"\n",
    "features_p = [\"更精确的措辞\", \"更具体的描述\", \"更连贯的表达\", \"更一致的风格\", \"更符合学术风格\", \"更正式的语法\"]\n",
    "length_req = None\n",
    "length = None\n",
    "paper_type = \"会议\"\n",
    "paper_domain = \"人工智能\"\n",
    "dt_res = {}\n",
    "for key in paper.dt_section_content:\n",
    "    input_text = paper.dt_section_content[key]\n",
    "    res = polish(polish_level, features_p, length_req, length, input_text, paper_type, paper_domain, None)\n",
    "    dt_res[key] = res\n",
    "with open('./polishgpt/moderately.txt', 'w') as fp:\n",
    "    fp.write(str(dt_res))"
   ]
  },
  {
   "cell_type": "code",
   "execution_count": 6,
   "metadata": {},
   "outputs": [],
   "source": []
  },
  {
   "cell_type": "code",
   "execution_count": 56,
   "metadata": {},
   "outputs": [],
   "source": [
    "from gpt_academic import polish\n",
    "\n",
    "dt_res = {}\n",
    "for key in paper.dt_section_content:\n",
    "    input_text = paper.dt_section_content[key]\n",
    "    res = polish(input_text)\n",
    "    dt_res[key] = res\n",
    "with open('./gptacademic/extremely.txt', 'w') as fp:\n",
    "    fp.write(str(dt_res))"
   ]
  },
  {
   "cell_type": "code",
   "execution_count": 62,
   "metadata": {},
   "outputs": [],
   "source": [
    "prompt_3 = \"\"\"I will provide you with three pieces of text. Please analyze them carefully and determine which one is better if you are a reviewer in Artificial Intelligence.\n",
    "\n",
    "Below are some criteria you should take into consideration:\n",
    "\n",
    "Conciseness: Removing unnecessary words to make the text clearer and more direct.\n",
    "Coherence: Ensuring that sentences are well-organized and flow logically.\n",
    "Academic Language: Using common academic terms and phrases (e.g., 'furthermore', 'thus').\n",
    "Formal Grammar: Adhering to correct grammar and syntax, avoiding sentence fragments or off-topic sentences.\n",
    "Logical Structure: Presenting clear and easily understandable logic, without causing confusion.\n",
    "\n",
    "Here are the Three texts:\n",
    "\n",
    "Text A:\n",
    "{textA}\n",
    "[End of text A]\n",
    "\n",
    "Text B:\n",
    "{textB}\n",
    "[End of text B]\n",
    "\n",
    "Text C:\n",
    "{textC}\n",
    "[End of text C]\n",
    "\n",
    "Your task is to directly output your judgment, ranking Text A, Text B and Text C based on their goodness. No additional information is needed. For example, \n",
    "if you think Text A is the best, Text B is the second best and Text C is the worst, you should output \"Text A, Text B and Text C\".\n",
    "\n",
    "Please analyze the texts based on these criteria and provide your judgment\"\"\"\n",
    "\n"
   ]
  },
  {
   "cell_type": "code",
   "execution_count": 45,
   "metadata": {},
   "outputs": [],
   "source": [
    "from paper_class import *\n",
    "import openai\n",
    "from dotenv import load_dotenv\n",
    "load_dotenv(dotenv_path = \".env\")\n",
    "openai.api_base = os.environ[\"OPENAI_API_BASE\"]\n",
    "openai.api_key = os.environ[\"OPENAI_API_KEY\"]\n",
    "\n",
    "res = {}\n",
    "for paper in ['moderately_poor']:#, 'main', 'output']:\n",
    "    for way in ['sec']:#, 'lan', 'stu']:\n",
    "        paper_ours = load_from_cache(f'./exp_result/our_method/{paper}.tex.pkl')\n",
    "        with open(f'./gptacademic/{paper.split('_')[0]}.txt', 'r') as fp:\n",
    "            paper_academic = eval(fp.read())\n",
    "        with open(f'./polishgpt/{paper.split('_')[0]}.txt', 'r') as fp:\n",
    "            paper_polish = eval(fp.read())\n",
    "        for key in paper_ours.dt_section_content:\n",
    "            origin = paper_ours.dt_section_content[key]\n",
    "            ours = paper_ours.dt_polishing_result[key]\n",
    "            academic = paper_academic[key]\n",
    "            polish = paper_polish[key]\n",
    "            \n",
    "            full_prompt = prompt_3.format(textA=academic, textB=ours, textC=polish)\n",
    "            completion = openai.ChatCompletion.create(\n",
    "                model=\"gpt-4-1106-preview\",\n",
    "                messages=[{'role': 'user', 'content': full_prompt}],\n",
    "                temperature=0,\n",
    "                response_format={\"type\": 'text'},\n",
    "            )\n",
    "            res[paper] = res.setdefault(paper, {})\n",
    "            res[paper][way] = res[paper].setdefault(way, {})\n",
    "            res[paper][way][key] = completion.choices[0][\"message\"][\"content\"]"
   ]
  },
  {
   "cell_type": "code",
   "execution_count": 46,
   "metadata": {},
   "outputs": [
    {
     "name": "stdout",
     "output_type": "stream",
     "text": [
      "DCU-AQ_sec_Introduction: Text B, Text A, Text C\n",
      "-+--+--+--+--+--+--+--+--+--+--+--+--+--+--+--+--+--+--+--+-\n",
      "DCU-AQ_sec_Methodology: Text B, Text C, and Text A\n",
      "-+--+--+--+--+--+--+--+--+--+--+--+--+--+--+--+--+--+--+--+-\n",
      "DCU-AQ_sec_Data Analysis: Text B, Text C, Text A\n",
      "-+--+--+--+--+--+--+--+--+--+--+--+--+--+--+--+--+--+--+--+-\n",
      "DCU-AQ_sec_Image Processing: Text B, Text A, Text C\n",
      "-+--+--+--+--+--+--+--+--+--+--+--+--+--+--+--+--+--+--+--+-\n",
      "DCU-AQ_sec_Gap Filling: Text B, Text A, Text C\n",
      "-+--+--+--+--+--+--+--+--+--+--+--+--+--+--+--+--+--+--+--+-\n",
      "DCU-AQ_sec_Experiments: Text A, Text C, Text B\n",
      "-+--+--+--+--+--+--+--+--+--+--+--+--+--+--+--+--+--+--+--+-\n",
      "DCU-AQ_sec_Experimental Approach: Text B, Text A, Text C\n",
      "-+--+--+--+--+--+--+--+--+--+--+--+--+--+--+--+--+--+--+--+-\n",
      "DCU-AQ_sec_Results: Text A, Text B, Text C\n",
      "-+--+--+--+--+--+--+--+--+--+--+--+--+--+--+--+--+--+--+--+-\n",
      "DCU-AQ_sec_Conclusions and Lessons Learned: Text A, Text B, Text C\n",
      "-+--+--+--+--+--+--+--+--+--+--+--+--+--+--+--+--+--+--+--+-\n"
     ]
    }
   ],
   "source": [
    "for key1 in res:\n",
    "    for key2 in res[key1]:\n",
    "        for key3 in res[key1][key2]:\n",
    "            print(f'{key1}_{key2}_{key3}: {res[key1][key2][key3]}')\n",
    "            print('-+-'*20)"
   ]
  },
  {
   "cell_type": "code",
   "execution_count": null,
   "metadata": {},
   "outputs": [],
   "source": []
  }
 ],
 "metadata": {
  "kernelspec": {
   "display_name": "hallu_final",
   "language": "python",
   "name": "python3"
  },
  "language_info": {
   "codemirror_mode": {
    "name": "ipython",
    "version": 3
   },
   "file_extension": ".py",
   "mimetype": "text/x-python",
   "name": "python",
   "nbconvert_exporter": "python",
   "pygments_lexer": "ipython3",
   "version": "3.8.18"
  }
 },
 "nbformat": 4,
 "nbformat_minor": 2
}
